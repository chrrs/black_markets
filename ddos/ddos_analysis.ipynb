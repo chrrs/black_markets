{
 "cells": [
  {
   "cell_type": "markdown",
   "metadata": {},
   "source": [
    "# Introduction to Digital Forensincs - **Assignment 2**\n",
    "\n",
    "By Beatrice Beretta (s2584891), Rodrigo Carvalho (s2379821), Alison Brandt (s2367815), Chris Bleeker (s2462648), Allen Sirkin (s2293153) and Julia Naastepad (s2483068)"
   ]
  },
  {
   "cell_type": "markdown",
   "metadata": {},
   "source": [
    "## Introduction and motivation\n",
    "\n",
    "The goal of this analysis is to gain a better understanding of how DDoS attacks are typically performed. This is done by inspecting a capture of all the packets being exchanged on a computer which is being attacked. We want to inspect what method is used (abused) to perform these attacks and how to detect these attacks in a stream of packets. Alongside that, we want to inspect what characteristics the attackers have in common. Combining this data, we gather the details from the provided attack and learn to detect this attack in the future."
   ]
  },
  {
   "cell_type": "markdown",
   "metadata": {},
   "source": [
    "## Methodology\n",
    "\n",
    "To perform the analysis, we were given a list of questions to answer. These questions will be used as a baseline for the analysis, but we will allow ourselves to take some creative liberty at some points to, for example, visualize the results in a graph or make the results clearer in some other way.\n",
    "\n",
    "To answer these questions, we will use this Jupyter notebook to generalize and automate the process. This is done by first converting the pcap file to a format `pandas` understands by using `tshark`, which is a tool that is included with Wireshark. After this, we can use Python to analyze and filter the results."
   ]
  },
  {
   "cell_type": "markdown",
   "metadata": {},
   "source": [
    "## Setup"
   ]
  },
  {
   "cell_type": "markdown",
   "metadata": {},
   "source": [
    "### Import the necessary libraries"
   ]
  },
  {
   "cell_type": "code",
   "execution_count": 2,
   "metadata": {},
   "outputs": [],
   "source": [
    "import pandas as pd\n",
    "import numpy as np\n",
    "import matplotlib.pyplot as plt\n",
    "\n",
    "%matplotlib inline\n",
    "\n",
    "import warnings\n",
    "warnings.filterwarnings('ignore')"
   ]
  },
  {
   "cell_type": "markdown",
   "metadata": {},
   "source": [
    "### Convert the pcap file to a CSV file that can be imported by pandas"
   ]
  },
  {
   "cell_type": "code",
   "execution_count": 3,
   "metadata": {},
   "outputs": [
    {
     "name": "stderr",
     "output_type": "stream",
     "text": [
      "tshark: The file \"real_booter_attack.pcap\" appears to have been cut short in the middle of a packet.\n"
     ]
    }
   ],
   "source": [
    "# Mostly taken from https://github.com/jjsantanna/pcap_dns_ddos_analysis/blob/master/pcap_analysis_dsn_attack_example.ipynb\n",
    "# You'll need tshark for the following command.\n",
    "!tshark -n -r real_booter_attack.pcap -E separator=; -E header=y -T fields \\\n",
    "    -e frame.time_epoch \\\n",
    "    -e eth.src \\\n",
    "    -e ip.proto \\\n",
    "    -e ip.src \\\n",
    "    -e ip.dst \\\n",
    "    -e udp.srcport \\\n",
    "    -e udp.dstport \\\n",
    "    -e frame.len \\\n",
    "    -e dns.qry.type \\\n",
    "    > pcap.csv"
   ]
  },
  {
   "cell_type": "code",
   "execution_count": 4,
   "metadata": {},
   "outputs": [],
   "source": [
    "df = pd.read_csv('pcap.csv', sep = ';')"
   ]
  },
  {
   "cell_type": "markdown",
   "metadata": {},
   "source": [
    "### Polish the data and show the structure"
   ]
  },
  {
   "cell_type": "code",
   "execution_count": 5,
   "metadata": {},
   "outputs": [],
   "source": [
    "df['frame.time_epoch'] = pd.to_datetime(df['frame.time_epoch'], unit = 's')"
   ]
  },
  {
   "cell_type": "code",
   "execution_count": 6,
   "metadata": {},
   "outputs": [
    {
     "data": {
      "text/html": [
       "<div>\n",
       "<style scoped>\n",
       "    .dataframe tbody tr th:only-of-type {\n",
       "        vertical-align: middle;\n",
       "    }\n",
       "\n",
       "    .dataframe tbody tr th {\n",
       "        vertical-align: top;\n",
       "    }\n",
       "\n",
       "    .dataframe thead th {\n",
       "        text-align: right;\n",
       "    }\n",
       "</style>\n",
       "<table border=\"1\" class=\"dataframe\">\n",
       "  <thead>\n",
       "    <tr style=\"text-align: right;\">\n",
       "      <th></th>\n",
       "      <th>frame.time_epoch</th>\n",
       "      <th>eth.src</th>\n",
       "      <th>ip.proto</th>\n",
       "      <th>ip.src</th>\n",
       "      <th>ip.dst</th>\n",
       "      <th>udp.srcport</th>\n",
       "      <th>udp.dstport</th>\n",
       "      <th>frame.len</th>\n",
       "      <th>dns.qry.type</th>\n",
       "    </tr>\n",
       "  </thead>\n",
       "  <tbody>\n",
       "    <tr>\n",
       "      <th>0</th>\n",
       "      <td>2014-12-22 15:38:42.525944832</td>\n",
       "      <td>06:90:f4:0e:e0:ff</td>\n",
       "      <td>1</td>\n",
       "      <td>162.8.125.17</td>\n",
       "      <td>172.31.28.132</td>\n",
       "      <td>NaN</td>\n",
       "      <td>NaN</td>\n",
       "      <td>62</td>\n",
       "      <td>NaN</td>\n",
       "    </tr>\n",
       "    <tr>\n",
       "      <th>1</th>\n",
       "      <td>2014-12-22 15:38:42.525981952</td>\n",
       "      <td>06:9a:6c:66:90:33</td>\n",
       "      <td>1</td>\n",
       "      <td>172.31.28.132</td>\n",
       "      <td>162.8.125.17</td>\n",
       "      <td>NaN</td>\n",
       "      <td>NaN</td>\n",
       "      <td>62</td>\n",
       "      <td>NaN</td>\n",
       "    </tr>\n",
       "    <tr>\n",
       "      <th>2</th>\n",
       "      <td>2014-12-22 15:38:42.648396032</td>\n",
       "      <td>06:9a:6c:66:90:33</td>\n",
       "      <td>17</td>\n",
       "      <td>172.31.28.132</td>\n",
       "      <td>172.31.0.2</td>\n",
       "      <td>51139.0</td>\n",
       "      <td>53.0</td>\n",
       "      <td>103</td>\n",
       "      <td>1.0</td>\n",
       "    </tr>\n",
       "    <tr>\n",
       "      <th>3</th>\n",
       "      <td>2014-12-22 15:38:42.648421888</td>\n",
       "      <td>06:9a:6c:66:90:33</td>\n",
       "      <td>17</td>\n",
       "      <td>172.31.28.132</td>\n",
       "      <td>172.31.0.2</td>\n",
       "      <td>51139.0</td>\n",
       "      <td>53.0</td>\n",
       "      <td>103</td>\n",
       "      <td>28.0</td>\n",
       "    </tr>\n",
       "    <tr>\n",
       "      <th>4</th>\n",
       "      <td>2014-12-22 15:38:42.648628992</td>\n",
       "      <td>06:90:f4:0e:e0:ff</td>\n",
       "      <td>17</td>\n",
       "      <td>172.31.0.2</td>\n",
       "      <td>172.31.28.132</td>\n",
       "      <td>53.0</td>\n",
       "      <td>51139.0</td>\n",
       "      <td>164</td>\n",
       "      <td>28.0</td>\n",
       "    </tr>\n",
       "  </tbody>\n",
       "</table>\n",
       "</div>"
      ],
      "text/plain": [
       "               frame.time_epoch            eth.src ip.proto         ip.src  \\\n",
       "0 2014-12-22 15:38:42.525944832  06:90:f4:0e:e0:ff        1   162.8.125.17   \n",
       "1 2014-12-22 15:38:42.525981952  06:9a:6c:66:90:33        1  172.31.28.132   \n",
       "2 2014-12-22 15:38:42.648396032  06:9a:6c:66:90:33       17  172.31.28.132   \n",
       "3 2014-12-22 15:38:42.648421888  06:9a:6c:66:90:33       17  172.31.28.132   \n",
       "4 2014-12-22 15:38:42.648628992  06:90:f4:0e:e0:ff       17     172.31.0.2   \n",
       "\n",
       "          ip.dst  udp.srcport  udp.dstport  frame.len  dns.qry.type  \n",
       "0  172.31.28.132          NaN          NaN         62           NaN  \n",
       "1   162.8.125.17          NaN          NaN         62           NaN  \n",
       "2     172.31.0.2      51139.0         53.0        103           1.0  \n",
       "3     172.31.0.2      51139.0         53.0        103          28.0  \n",
       "4  172.31.28.132         53.0      51139.0        164          28.0  "
      ]
     },
     "execution_count": 6,
     "metadata": {},
     "output_type": "execute_result"
    }
   ],
   "source": [
    "df.head()"
   ]
  },
  {
   "cell_type": "markdown",
   "metadata": {},
   "source": [
    "## Analysis"
   ]
  },
  {
   "cell_type": "markdown",
   "metadata": {},
   "source": [
    "### How many records are in the entire trace?"
   ]
  },
  {
   "cell_type": "code",
   "execution_count": 7,
   "metadata": {},
   "outputs": [
    {
     "data": {
      "text/plain": [
       "122233"
      ]
     },
     "execution_count": 7,
     "metadata": {},
     "output_type": "execute_result"
    }
   ],
   "source": [
    "len(df)"
   ]
  },
  {
   "cell_type": "markdown",
   "metadata": {},
   "source": [
    "### What is the duration of the entire trace?"
   ]
  },
  {
   "cell_type": "code",
   "execution_count": 8,
   "metadata": {},
   "outputs": [
    {
     "data": {
      "text/plain": [
       "'25.343013 seconds'"
      ]
     },
     "execution_count": 8,
     "metadata": {},
     "output_type": "execute_result"
    }
   ],
   "source": [
    "duration = max(df['frame.time_epoch']) - min(df['frame.time_epoch'])\n",
    "'{} seconds'.format(duration.total_seconds())"
   ]
  },
  {
   "cell_type": "markdown",
   "metadata": {},
   "source": [
    "### Some examples of packets which are *NOT* part of the attack\n",
    "\n",
    "![Unrelated Packet #1](unrelated_packet_1.png)\n",
    "\n",
    "This is a ping packet. Since the attack is executed using DNS reflection, this packet is not part of the attack, but just a ping request to the computer capturing these packets.\n",
    "\n",
    "![Unrelated Packet #2](unrelated_packet_2.png)\n",
    "\n",
    "While this is a DNS request packet, all the packets that are part of the attack are DNS response packets, since the way the attack works is that the victim does not need to send out DNS request themselves. This being a request packet thus excludes it from the attack.\n",
    "\n",
    "![Unrelated Packet #3](unrelated_packet_3.png)\n",
    "\n",
    "There seems to be a single TCP packet in the capture. Since all attack-related packets are DNS, which runs on UDP, this packet is not related to the attack, and is more likely a connection started before the capture that timed out, thus sending a RST packet, which closes the TCP connection."
   ]
  },
  {
   "cell_type": "markdown",
   "metadata": {},
   "source": [
    "### What are the characteristics of packets related to the attack?"
   ]
  },
  {
   "cell_type": "code",
   "execution_count": 9,
   "metadata": {},
   "outputs": [],
   "source": [
    "target_ip = df['ip.dst'].value_counts().index[0]"
   ]
  },
  {
   "cell_type": "code",
   "execution_count": 10,
   "metadata": {},
   "outputs": [
    {
     "data": {
      "text/html": [
       "<div>\n",
       "<style scoped>\n",
       "    .dataframe tbody tr th:only-of-type {\n",
       "        vertical-align: middle;\n",
       "    }\n",
       "\n",
       "    .dataframe tbody tr th {\n",
       "        vertical-align: top;\n",
       "    }\n",
       "\n",
       "    .dataframe thead th {\n",
       "        text-align: right;\n",
       "    }\n",
       "</style>\n",
       "<table border=\"1\" class=\"dataframe\">\n",
       "  <thead>\n",
       "    <tr style=\"text-align: right;\">\n",
       "      <th></th>\n",
       "      <th>frame.time_epoch</th>\n",
       "      <th>eth.src</th>\n",
       "      <th>ip.proto</th>\n",
       "      <th>ip.src</th>\n",
       "      <th>ip.dst</th>\n",
       "      <th>udp.srcport</th>\n",
       "      <th>udp.dstport</th>\n",
       "      <th>frame.len</th>\n",
       "      <th>dns.qry.type</th>\n",
       "    </tr>\n",
       "  </thead>\n",
       "  <tbody>\n",
       "    <tr>\n",
       "      <th>46</th>\n",
       "      <td>2014-12-22 15:38:47.712599040</td>\n",
       "      <td>06:90:f4:0e:e0:ff</td>\n",
       "      <td>17</td>\n",
       "      <td>89.228.8.86</td>\n",
       "      <td>172.31.28.132</td>\n",
       "      <td>53.0</td>\n",
       "      <td>80.0</td>\n",
       "      <td>3231</td>\n",
       "      <td>255.0</td>\n",
       "    </tr>\n",
       "    <tr>\n",
       "      <th>48</th>\n",
       "      <td>2014-12-22 15:38:47.713639936</td>\n",
       "      <td>06:90:f4:0e:e0:ff</td>\n",
       "      <td>17</td>\n",
       "      <td>89.228.8.86</td>\n",
       "      <td>172.31.28.132</td>\n",
       "      <td>53.0</td>\n",
       "      <td>80.0</td>\n",
       "      <td>3231</td>\n",
       "      <td>255.0</td>\n",
       "    </tr>\n",
       "    <tr>\n",
       "      <th>50</th>\n",
       "      <td>2014-12-22 15:38:47.716510976</td>\n",
       "      <td>06:90:f4:0e:e0:ff</td>\n",
       "      <td>17</td>\n",
       "      <td>89.228.8.86</td>\n",
       "      <td>172.31.28.132</td>\n",
       "      <td>53.0</td>\n",
       "      <td>80.0</td>\n",
       "      <td>3231</td>\n",
       "      <td>255.0</td>\n",
       "    </tr>\n",
       "    <tr>\n",
       "      <th>52</th>\n",
       "      <td>2014-12-22 15:38:47.718020864</td>\n",
       "      <td>06:90:f4:0e:e0:ff</td>\n",
       "      <td>17</td>\n",
       "      <td>89.228.8.86</td>\n",
       "      <td>172.31.28.132</td>\n",
       "      <td>53.0</td>\n",
       "      <td>80.0</td>\n",
       "      <td>3231</td>\n",
       "      <td>255.0</td>\n",
       "    </tr>\n",
       "    <tr>\n",
       "      <th>54</th>\n",
       "      <td>2014-12-22 15:38:47.723645952</td>\n",
       "      <td>06:90:f4:0e:e0:ff</td>\n",
       "      <td>17</td>\n",
       "      <td>89.228.8.86</td>\n",
       "      <td>172.31.28.132</td>\n",
       "      <td>53.0</td>\n",
       "      <td>80.0</td>\n",
       "      <td>3231</td>\n",
       "      <td>255.0</td>\n",
       "    </tr>\n",
       "  </tbody>\n",
       "</table>\n",
       "</div>"
      ],
      "text/plain": [
       "                frame.time_epoch            eth.src ip.proto       ip.src  \\\n",
       "46 2014-12-22 15:38:47.712599040  06:90:f4:0e:e0:ff       17  89.228.8.86   \n",
       "48 2014-12-22 15:38:47.713639936  06:90:f4:0e:e0:ff       17  89.228.8.86   \n",
       "50 2014-12-22 15:38:47.716510976  06:90:f4:0e:e0:ff       17  89.228.8.86   \n",
       "52 2014-12-22 15:38:47.718020864  06:90:f4:0e:e0:ff       17  89.228.8.86   \n",
       "54 2014-12-22 15:38:47.723645952  06:90:f4:0e:e0:ff       17  89.228.8.86   \n",
       "\n",
       "           ip.dst  udp.srcport  udp.dstport  frame.len  dns.qry.type  \n",
       "46  172.31.28.132         53.0         80.0       3231         255.0  \n",
       "48  172.31.28.132         53.0         80.0       3231         255.0  \n",
       "50  172.31.28.132         53.0         80.0       3231         255.0  \n",
       "52  172.31.28.132         53.0         80.0       3231         255.0  \n",
       "54  172.31.28.132         53.0         80.0       3231         255.0  "
      ]
     },
     "execution_count": 10,
     "metadata": {},
     "output_type": "execute_result"
    }
   ],
   "source": [
    "# There are some requests that the victim issues, we want to exclude these from the attack packets.\n",
    "request_ips = df[df['ip.proto'] == '17'][df['ip.src'] == target_ip]['ip.dst']\n",
    "\n",
    "# Only show DNS packets.\n",
    "attack_df = df[df['ip.proto'] == '17'][~df['dns.qry.type'].isnull()]\n",
    "# Filter out the responses to manually requested DNS queries.\n",
    "attack_df = attack_df[~attack_df['ip.src'].isin(request_ips)]\n",
    "# Only show DNS responses to the victim.\n",
    "attack_df = attack_df[attack_df['ip.dst'] == target_ip]\n",
    "\n",
    "attack_df.head()"
   ]
  },
  {
   "cell_type": "markdown",
   "metadata": {},
   "source": [
    "The wireshark filter for this specific attack would be `!icmp && dns && ip.dst == 172.31.28.132 && ip.src != 172.31.0.2`:\n",
    "- We filter out the ICMP packets, as the victim's computer actually responds to some of the DNS responses. While these are a result of the attack, they are not actually part of the attack.\n",
    "- Only show the packets with the destination set to the victim's computer.\n",
    "- One IP actually sent DNS responses to our own requests, so we filter this one out."
   ]
  },
  {
   "cell_type": "markdown",
   "metadata": {},
   "source": [
    "### What is the target IP for the attack?"
   ]
  },
  {
   "cell_type": "code",
   "execution_count": 11,
   "metadata": {},
   "outputs": [
    {
     "data": {
      "text/plain": [
       "'172.31.28.132'"
      ]
     },
     "execution_count": 11,
     "metadata": {},
     "output_type": "execute_result"
    }
   ],
   "source": [
    "target_ip"
   ]
  },
  {
   "cell_type": "markdown",
   "metadata": {},
   "source": [
    "### How many records are part of the attack?"
   ]
  },
  {
   "cell_type": "code",
   "execution_count": 12,
   "metadata": {},
   "outputs": [
    {
     "data": {
      "text/plain": [
       "120149"
      ]
     },
     "execution_count": 12,
     "metadata": {},
     "output_type": "execute_result"
    }
   ],
   "source": [
    "len(attack_df)"
   ]
  },
  {
   "cell_type": "markdown",
   "metadata": {},
   "source": [
    "### How many unique IP addresses performed the attack?"
   ]
  },
  {
   "cell_type": "code",
   "execution_count": 13,
   "metadata": {},
   "outputs": [
    {
     "data": {
      "text/plain": [
       "79"
      ]
     },
     "execution_count": 13,
     "metadata": {},
     "output_type": "execute_result"
    }
   ],
   "source": [
    "len(attack_df['ip.src'].value_counts())"
   ]
  },
  {
   "cell_type": "markdown",
   "metadata": {},
   "source": [
    "### Which source IP's sent the most packets in the attack?"
   ]
  },
  {
   "cell_type": "code",
   "execution_count": 14,
   "metadata": {},
   "outputs": [
    {
     "data": {
      "text/plain": [
       "<AxesSubplot:>"
      ]
     },
     "execution_count": 14,
     "metadata": {},
     "output_type": "execute_result"
    },
    {
     "data": {
      "image/png": "[encoded data removed]",
      "text/plain": [
       "<Figure size 432x288 with 1 Axes>"
      ]
     },
     "metadata": {
      "needs_background": "light"
     },
     "output_type": "display_data"
    }
   ],
   "source": [
    "attack_df['ip.src'].value_counts()[:20].plot(kind = 'barh')"
   ]
  },
  {
   "cell_type": "code",
   "execution_count": 15,
   "metadata": {},
   "outputs": [
    {
     "data": {
      "text/plain": [
       "37.123.96.179    11126\n",
       "61.93.9.158       8086\n",
       "121.32.89.198     6261\n",
       "Name: ip.src, dtype: int64"
      ]
     },
     "execution_count": 15,
     "metadata": {},
     "output_type": "execute_result"
    }
   ],
   "source": [
    "top3 = attack_df['ip.src'].value_counts()[:3]\n",
    "top3"
   ]
  },
  {
   "cell_type": "markdown",
   "metadata": {},
   "source": [
    "### Where are these top 3 IP's located and what Autonomous Systems are related?"
   ]
  },
  {
   "cell_type": "code",
   "execution_count": 16,
   "metadata": {},
   "outputs": [
    {
     "data": {
      "text/html": [
       "<div>\n",
       "<style scoped>\n",
       "    .dataframe tbody tr th:only-of-type {\n",
       "        vertical-align: middle;\n",
       "    }\n",
       "\n",
       "    .dataframe tbody tr th {\n",
       "        vertical-align: top;\n",
       "    }\n",
       "\n",
       "    .dataframe thead th {\n",
       "        text-align: right;\n",
       "    }\n",
       "</style>\n",
       "<table border=\"1\" class=\"dataframe\">\n",
       "  <thead>\n",
       "    <tr style=\"text-align: right;\">\n",
       "      <th></th>\n",
       "      <th>IP</th>\n",
       "      <th>Location</th>\n",
       "      <th>AS</th>\n",
       "    </tr>\n",
       "  </thead>\n",
       "  <tbody>\n",
       "    <tr>\n",
       "      <th>0</th>\n",
       "      <td>37.123.96.179</td>\n",
       "      <td>İzmir, TR</td>\n",
       "      <td>AS57844 SPDNet Telekomunikasyon Hizmetleri Bil...</td>\n",
       "    </tr>\n",
       "    <tr>\n",
       "      <th>1</th>\n",
       "      <td>61.93.9.158</td>\n",
       "      <td>Hong Kong, HK</td>\n",
       "      <td>AS9269 Hong Kong Broadband Network Ltd.</td>\n",
       "    </tr>\n",
       "    <tr>\n",
       "      <th>2</th>\n",
       "      <td>121.32.89.198</td>\n",
       "      <td>Guangzhou, CN</td>\n",
       "      <td>AS4134 CHINANET-BACKBONE</td>\n",
       "    </tr>\n",
       "  </tbody>\n",
       "</table>\n",
       "</div>"
      ],
      "text/plain": [
       "              IP       Location  \\\n",
       "0  37.123.96.179      İzmir, TR   \n",
       "1    61.93.9.158  Hong Kong, HK   \n",
       "2  121.32.89.198  Guangzhou, CN   \n",
       "\n",
       "                                                  AS  \n",
       "0  AS57844 SPDNet Telekomunikasyon Hizmetleri Bil...  \n",
       "1            AS9269 Hong Kong Broadband Network Ltd.  \n",
       "2                           AS4134 CHINANET-BACKBONE  "
      ]
     },
     "execution_count": 16,
     "metadata": {},
     "output_type": "execute_result"
    }
   ],
   "source": [
    "import json\n",
    "from urllib.request import urlopen\n",
    "\n",
    "def ip_info(ip):\n",
    "    response = urlopen('https://ipinfo.io/{}/json'.format(ip))\n",
    "    data = json.load(response)\n",
    "    return [ip, '{}, {}'.format(data['city'], data['country']), data['org']]\n",
    "\n",
    "top3_list = list(map(ip_info, top3.keys()))\n",
    "top3_info = pd.DataFrame(top3_list, columns = ['IP', 'Location', 'AS'])\n",
    "top3_info"
   ]
  },
  {
   "cell_type": "markdown",
   "metadata": {},
   "source": [
    "### What is the distribution of vendors related to the source IP's of the attack?"
   ]
  },
  {
   "cell_type": "markdown",
   "metadata": {},
   "source": [
    "For this we use the `mac-vendor-lookup` pip package. "
   ]
  },
  {
   "cell_type": "code",
   "execution_count": 17,
   "metadata": {},
   "outputs": [],
   "source": [
    "!pip install mac-vendor-lookup nest_asyncio > /dev/null"
   ]
  },
  {
   "cell_type": "code",
   "execution_count": 18,
   "metadata": {},
   "outputs": [],
   "source": [
    "# Without this, async actions won't work in Jupyter.\n",
    "import nest_asyncio\n",
    "nest_asyncio.apply()\n",
    "\n",
    "from mac_vendor_lookup import MacLookup\n",
    "mac = MacLookup()\n",
    "\n",
    "def get_vendor(m):\n",
    "    try:\n",
    "        return mac.lookup(m)\n",
    "    except:\n",
    "        return 'Unknown'"
   ]
  },
  {
   "cell_type": "code",
   "execution_count": 19,
   "metadata": {},
   "outputs": [
    {
     "data": {
      "text/html": [
       "<div>\n",
       "<style scoped>\n",
       "    .dataframe tbody tr th:only-of-type {\n",
       "        vertical-align: middle;\n",
       "    }\n",
       "\n",
       "    .dataframe tbody tr th {\n",
       "        vertical-align: top;\n",
       "    }\n",
       "\n",
       "    .dataframe thead th {\n",
       "        text-align: right;\n",
       "    }\n",
       "</style>\n",
       "<table border=\"1\" class=\"dataframe\">\n",
       "  <thead>\n",
       "    <tr style=\"text-align: right;\">\n",
       "      <th></th>\n",
       "      <th>MAC address</th>\n",
       "      <th>Count</th>\n",
       "      <th>Vendor</th>\n",
       "    </tr>\n",
       "  </thead>\n",
       "  <tbody>\n",
       "    <tr>\n",
       "      <th>0</th>\n",
       "      <td>06:90:f4:0e:e0:ff</td>\n",
       "      <td>120149</td>\n",
       "      <td>Unknown</td>\n",
       "    </tr>\n",
       "  </tbody>\n",
       "</table>\n",
       "</div>"
      ],
      "text/plain": [
       "         MAC address   Count   Vendor\n",
       "0  06:90:f4:0e:e0:ff  120149  Unknown"
      ]
     },
     "execution_count": 19,
     "metadata": {},
     "output_type": "execute_result"
    }
   ],
   "source": [
    "macs = pd.DataFrame(attack_df['eth.src'].value_counts())\n",
    "macs.reset_index(inplace = True)\n",
    "macs.rename(inplace = True, columns = { 'index': 'MAC address', 'eth.src': 'Count' })\n",
    "\n",
    "macs['Vendor'] = macs['MAC address'].map(get_vendor)\n",
    "macs"
   ]
  },
  {
   "cell_type": "markdown",
   "metadata": {},
   "source": [
    "It seems that all the packets in the attack have the same source MAC address from an unknown vendor. It makes sense that they're all the same, as the MAC address is most likely the address of the router before the capturing computer, not from the actual packet sender."
   ]
  },
  {
   "cell_type": "markdown",
   "metadata": {},
   "source": [
    "### What are the source ports involved in the attack?"
   ]
  },
  {
   "cell_type": "code",
   "execution_count": 20,
   "metadata": {},
   "outputs": [
    {
     "data": {
      "text/plain": [
       "53.0    120149\n",
       "Name: udp.srcport, dtype: int64"
      ]
     },
     "execution_count": 20,
     "metadata": {},
     "output_type": "execute_result"
    }
   ],
   "source": [
    "attack_df['udp.srcport'].value_counts()"
   ]
  },
  {
   "cell_type": "markdown",
   "metadata": {},
   "source": [
    "All the packets from the attack are from port 53, which makes sense, because that is the default DNS port."
   ]
  },
  {
   "cell_type": "markdown",
   "metadata": {},
   "source": [
    "### How much was the data rate peak of the attack?"
   ]
  },
  {
   "cell_type": "code",
   "execution_count": 29,
   "metadata": {},
   "outputs": [
    {
     "data": {
      "text/plain": [
       "'13.44 Mbits/s'"
      ]
     },
     "execution_count": 29,
     "metadata": {},
     "output_type": "execute_result"
    }
   ],
   "source": [
    "data_rate = attack_df[['frame.time_epoch', 'frame.len']]\n",
    "data_rate['frame.time_epoch'] = data_rate['frame.time_epoch'].map(lambda t : t.round(freq = 'S'))\n",
    "data_rate = data_rate.groupby(['frame.time_epoch']).sum()\n",
    "\n",
    "peak_data_rate = data_rate.max()['frame.len']\n",
    "'{:.2f} Mbits/s'.format(peak_data_rate / 1024 / 1024)"
   ]
  },
  {
   "cell_type": "markdown",
   "metadata": {},
   "source": [
    "### What is the distribution of TCP flags involvbed in the attack?\n",
    "\n",
    "There aren't any TCP packets in the attack."
   ]
  },
  {
   "cell_type": "markdown",
   "metadata": {},
   "source": [
    "### What is the distribution of packet length?"
   ]
  },
  {
   "cell_type": "code",
   "execution_count": 22,
   "metadata": {},
   "outputs": [
    {
     "data": {
      "text/plain": [
       "2839    8473\n",
       "554     4650\n",
       "225     4132\n",
       "3049    4051\n",
       "2496    3960\n",
       "        ... \n",
       "268        7\n",
       "3931       6\n",
       "4015       6\n",
       "3656       5\n",
       "70         2\n",
       "Name: frame.len, Length: 240, dtype: int64"
      ]
     },
     "execution_count": 22,
     "metadata": {},
     "output_type": "execute_result"
    },
    {
     "data": {
      "image/png": "[encoded data removed]",
      "text/plain": [
       "<Figure size 432x288 with 1 Axes>"
      ]
     },
     "metadata": {
      "needs_background": "light"
     },
     "output_type": "display_data"
    }
   ],
   "source": [
    "packet_lengths = attack_df['frame.len']\n",
    "plt.hist(packet_lengths, bins = 100)\n",
    "packet_lengths.value_counts()"
   ]
  },
  {
   "cell_type": "markdown",
   "metadata": {},
   "source": [
    "There doesn't seem to be any clear distribution of packet lengths, but a lot concentrated around 500 bytes, and a lot around 3000 bytes in size."
   ]
  },
  {
   "cell_type": "markdown",
   "metadata": {},
   "source": [
    "## Conclusion\n",
    "\n",
    "This attack is most likely a DNS reflection attack originating from China. We can see that about 80 IP's are used to send around 120,000 responses in 25 seconds, resulting in a pretty low but respectable 13 MBits/s network load. The top IP address sent about 10% of all requests, with the rest going down decreasingly. During the attack, basically no other packets were exchanged, but it's unclear wether this is due to the network being congested, or that the network intentionally wasn't used.\n",
    "\n",
    "The attacking IP addresses don't have much in common. The top 3 IP addresses however all seem to be located in or around China. The attack is pretty easy to detect, as it's the same few hostnames in the DNS responses being responded again and again at a very quick pace. The hostnames seem to be selected partially based on response length, as more than half of the packets are more than 2KiB in size, but there is still a large portion that is under 1KiB in size."
   ]
  }
 ],
 "metadata": {
  "kernelspec": {
   "display_name": "Python 3.7.9 64-bit",
   "language": "python",
   "name": "python3"
  },
  "language_info": {
   "codemirror_mode": {
    "name": "ipython",
    "version": 3
   },
   "file_extension": ".py",
   "mimetype": "text/x-python",
   "name": "python",
   "nbconvert_exporter": "python",
   "pygments_lexer": "ipython3",
   "version": "3.7.9"
  },
  "orig_nbformat": 4,
  "vscode": {
   "interpreter": {
    "hash": "4c07db3b1d72aa2a34935254356b241dc320d5e7b7a54f32b10f9262b7798cc3"
   }
  }
 },
 "nbformat": 4,
 "nbformat_minor": 2
}
